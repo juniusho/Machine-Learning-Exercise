{
  "nbformat": 4,
  "nbformat_minor": 0,
  "metadata": {
    "colab": {
      "provenance": []
    },
    "kernelspec": {
      "name": "python3",
      "display_name": "Python 3"
    },
    "language_info": {
      "name": "python"
    }
  },
  "cells": [
    {
      "cell_type": "code",
      "execution_count": 2,
      "metadata": {
        "id": "FKGYXgMCA1Sf"
      },
      "outputs": [],
      "source": [
        "import torch\n",
        "from torch import nn\n",
        "from torch.utils.data import DataLoader\n",
        "from torchvision import datasets\n",
        "from torchvision.transforms import ToTensor, Lambda\n",
        "\n"
      ]
    },
    {
      "cell_type": "markdown",
      "source": [
        "##Fashion-MNIST Dataset\n",
        "\n",
        "The dataset consists of handwritten digits. Fashion-MNIST comprises 70,000 grayscale images, each sized at 28x28 pixels.\n",
        "\n",
        "These images are categorized into ten different classes, including items like T-shirts, trousers, pullovers, dresses, coats, sandals, shirts, sneakers, bags, and ankle boots.\n",
        "\n",
        "The dataset is split into a training set with 60,000 images and a test set with 10,000 images."
      ],
      "metadata": {
        "id": "4O0i_-IaC4xZ"
      }
    },
    {
      "cell_type": "code",
      "source": [
        "training_data = datasets.FashionMNIST(\n",
        "    root=\"data\",\n",
        "    train=True,\n",
        "    download=True,\n",
        "    transform=ToTensor()\n",
        ")\n",
        "\n",
        "test_data = datasets.FashionMNIST(\n",
        "    root=\"data\",\n",
        "    train=False,\n",
        "    download=True,\n",
        "    transform=ToTensor()\n",
        ")\n",
        "\n",
        "train_dataloader = DataLoader(training_data, batch_size=64)\n",
        "test_dataloader = DataLoader(test_data, batch_size=64)"
      ],
      "metadata": {
        "id": "7fjSi29ZC61p"
      },
      "execution_count": null,
      "outputs": []
    },
    {
      "cell_type": "code",
      "source": [
        "X_ex, y_ex = next(iter(train_dataloader))\n",
        "print(y_ex)"
      ],
      "metadata": {
        "colab": {
          "base_uri": "https://localhost:8080/"
        },
        "id": "hRpCH_3pBat9",
        "outputId": "2bd852db-64f3-4b8c-b1df-78cba5402880"
      },
      "execution_count": 3,
      "outputs": [
        {
          "output_type": "stream",
          "name": "stdout",
          "text": [
            "tensor([9, 0, 0, 3, 0, 2, 7, 2, 5, 5, 0, 9, 5, 5, 7, 9, 1, 0, 6, 4, 3, 1, 4, 8,\n",
            "        4, 3, 0, 2, 4, 4, 5, 3, 6, 6, 0, 8, 5, 2, 1, 6, 6, 7, 9, 5, 9, 2, 7, 3,\n",
            "        0, 3, 3, 3, 7, 2, 2, 6, 6, 8, 3, 3, 5, 0, 5, 5])\n"
          ]
        }
      ]
    },
    {
      "cell_type": "code",
      "source": [
        "import matplotlib.pyplot as plt\n",
        "print(X_ex[0].shape)\n",
        "plt.matshow(X_ex[1][0],cmap='gray')\n",
        "plt.show()"
      ],
      "metadata": {
        "colab": {
          "base_uri": "https://localhost:8080/",
          "height": 454
        },
        "id": "2AVahf3kBgI3",
        "outputId": "bafa98fd-ba3b-4f5d-d96f-48403b94f108"
      },
      "execution_count": 7,
      "outputs": [
        {
          "output_type": "stream",
          "name": "stdout",
          "text": [
            "torch.Size([1, 28, 28])\n"
          ]
        },
        {
          "output_type": "display_data",
          "data": {
            "text/plain": [
              "<Figure size 480x480 with 1 Axes>"
            ],
            "image/png": "[encoded data removed]"
          },
          "metadata": {}
        }
      ]
    },
    {
      "cell_type": "code",
      "source": [
        "class MLP(nn.Module):\n",
        "    def __init__(self):\n",
        "        super(MLP, self).__init__()\n",
        "        self.flatten = nn.Flatten()\n",
        "        self.linear_relu_stack = nn.Sequential(\n",
        "            nn.Linear(28*28, 512),\n",
        "            nn.ReLU(),\n",
        "            nn.Linear(512, 512),\n",
        "            nn.ReLU(),\n",
        "            nn.Linear(512, 10),\n",
        "        )\n",
        "\n",
        "    def forward(self, x):\n",
        "        x = self.flatten(x)\n",
        "        logits = self.linear_relu_stack(x)\n",
        "        return logits"
      ],
      "metadata": {
        "id": "OxPTD2NPBohi"
      },
      "execution_count": 9,
      "outputs": []
    },
    {
      "cell_type": "code",
      "source": [
        "model = MLP()\n",
        "for name, p in model.named_parameters():\n",
        "  print(name, p.size())"
      ],
      "metadata": {
        "colab": {
          "base_uri": "https://localhost:8080/"
        },
        "id": "sJfBESRzBsm9",
        "outputId": "a601fe6c-387c-4c55-bdd9-3f43d2e18036"
      },
      "execution_count": 10,
      "outputs": [
        {
          "output_type": "stream",
          "name": "stdout",
          "text": [
            "linear_relu_stack.0.weight torch.Size([512, 784])\n",
            "linear_relu_stack.0.bias torch.Size([512])\n",
            "linear_relu_stack.2.weight torch.Size([512, 512])\n",
            "linear_relu_stack.2.bias torch.Size([512])\n",
            "linear_relu_stack.4.weight torch.Size([10, 512])\n",
            "linear_relu_stack.4.bias torch.Size([10])\n"
          ]
        }
      ]
    },
    {
      "cell_type": "code",
      "source": [
        "for name, p in model.named_parameters():\n",
        "  print(name, p.shape)"
      ],
      "metadata": {
        "colab": {
          "base_uri": "https://localhost:8080/"
        },
        "id": "-sJ8-UO2Bva4",
        "outputId": "70c968e1-9476-4e56-86e1-d8e36afe91f1"
      },
      "execution_count": 11,
      "outputs": [
        {
          "output_type": "stream",
          "name": "stdout",
          "text": [
            "linear_relu_stack.0.weight torch.Size([512, 784])\n",
            "linear_relu_stack.0.bias torch.Size([512])\n",
            "linear_relu_stack.2.weight torch.Size([512, 512])\n",
            "linear_relu_stack.2.bias torch.Size([512])\n",
            "linear_relu_stack.4.weight torch.Size([10, 512])\n",
            "linear_relu_stack.4.bias torch.Size([10])\n"
          ]
        }
      ]
    },
    {
      "cell_type": "code",
      "source": [
        "params = list(model.named_parameters())\n",
        "print(params[0])\n",
        "print(params[0][0])\n",
        "print(params[0][1].data)"
      ],
      "metadata": {
        "colab": {
          "base_uri": "https://localhost:8080/"
        },
        "id": "hYtvggH0Bybk",
        "outputId": "031f8ccb-f254-4c23-f697-289a8e5327b4"
      },
      "execution_count": 12,
      "outputs": [
        {
          "output_type": "stream",
          "name": "stdout",
          "text": [
            "('linear_relu_stack.0.weight', Parameter containing:\n",
            "tensor([[ 0.0251, -0.0205,  0.0289,  ..., -0.0242,  0.0071, -0.0227],\n",
            "        [ 0.0260, -0.0136, -0.0234,  ..., -0.0093, -0.0301, -0.0224],\n",
            "        [ 0.0064, -0.0115,  0.0202,  ...,  0.0062, -0.0128,  0.0319],\n",
            "        ...,\n",
            "        [-0.0196,  0.0008, -0.0244,  ..., -0.0298, -0.0119,  0.0223],\n",
            "        [-0.0117,  0.0339, -0.0258,  ...,  0.0069,  0.0035,  0.0116],\n",
            "        [ 0.0034, -0.0046, -0.0093,  ...,  0.0195, -0.0230,  0.0277]],\n",
            "       requires_grad=True))\n",
            "linear_relu_stack.0.weight\n",
            "tensor([[ 0.0251, -0.0205,  0.0289,  ..., -0.0242,  0.0071, -0.0227],\n",
            "        [ 0.0260, -0.0136, -0.0234,  ..., -0.0093, -0.0301, -0.0224],\n",
            "        [ 0.0064, -0.0115,  0.0202,  ...,  0.0062, -0.0128,  0.0319],\n",
            "        ...,\n",
            "        [-0.0196,  0.0008, -0.0244,  ..., -0.0298, -0.0119,  0.0223],\n",
            "        [-0.0117,  0.0339, -0.0258,  ...,  0.0069,  0.0035,  0.0116],\n",
            "        [ 0.0034, -0.0046, -0.0093,  ...,  0.0195, -0.0230,  0.0277]])\n"
          ]
        }
      ]
    },
    {
      "cell_type": "code",
      "source": [
        "def train_loop(dataloader, model, loss_fn, optimizer):\n",
        "    size = len(dataloader.dataset)\n",
        "    for batch, (X, y) in enumerate(dataloader):\n",
        "        # Compute prediction and loss\n",
        "        pred = model(X)\n",
        "        loss = loss_fn(pred, y)\n",
        "\n",
        "        # Backpropagation\n",
        "        optimizer.zero_grad()\n",
        "        loss.backward()\n",
        "        optimizer.step()\n",
        "\n",
        "        # if batch % 100 == 0:\n",
        "        #     loss, current = loss.item(), batch * len(X)\n",
        "        #     print(f\"loss: {loss:>7f}  [{current:>5d}/{size:>5d}]\")\n",
        "\n",
        "def test_loop(dataloader, model, loss_fn):\n",
        "    size = len(dataloader.dataset)\n",
        "    num_batches = len(dataloader)\n",
        "    test_loss, correct = 0, 0\n",
        "\n",
        "    with torch.no_grad():\n",
        "        for X, y in dataloader:\n",
        "            pred = model(X)\n",
        "            test_loss += loss_fn(pred, y).item()\n",
        "            correct += (pred.argmax(1) == y).type(torch.float).sum().item()\n",
        "\n",
        "    test_loss /= num_batches\n",
        "    correct /= size\n",
        "    print(f\"Test: \\n Accuracy: {(100*correct):>0.1f}%, Avg loss: {test_loss:>8f} \\n\")"
      ],
      "metadata": {
        "id": "9NM2cMimB0mZ"
      },
      "execution_count": 13,
      "outputs": []
    },
    {
      "cell_type": "code",
      "source": [
        "model = MLP()\n",
        "loss_fn = nn.CrossEntropyLoss()\n",
        "optimizer = torch.optim.Adam(model.parameters(), lr=1e-3, betas=(0.9, 0.999))\n",
        "\n",
        "epochs = 10\n",
        "for t in range(epochs):\n",
        "    print(f\"Epoch {t+1}\\n\")\n",
        "    train_loop(train_dataloader, model, loss_fn, optimizer)\n",
        "    test_loop(test_dataloader, model, loss_fn)\n",
        "print(\"Done!\")"
      ],
      "metadata": {
        "colab": {
          "base_uri": "https://localhost:8080/"
        },
        "id": "sDt52vREB8pP",
        "outputId": "4cef10eb-c0dc-449e-b5ca-cd44a3706294"
      },
      "execution_count": 14,
      "outputs": [
        {
          "output_type": "stream",
          "name": "stdout",
          "text": [
            "Epoch 1\n",
            "\n",
            "Test: \n",
            " Accuracy: 84.8%, Avg loss: 0.419393 \n",
            "\n",
            "Epoch 2\n",
            "\n",
            "Test: \n",
            " Accuracy: 85.5%, Avg loss: 0.391480 \n",
            "\n",
            "Epoch 3\n",
            "\n",
            "Test: \n",
            " Accuracy: 85.4%, Avg loss: 0.388997 \n",
            "\n",
            "Epoch 4\n",
            "\n",
            "Test: \n",
            " Accuracy: 85.9%, Avg loss: 0.382323 \n",
            "\n",
            "Epoch 5\n",
            "\n",
            "Test: \n",
            " Accuracy: 87.3%, Avg loss: 0.355870 \n",
            "\n",
            "Epoch 6\n",
            "\n",
            "Test: \n",
            " Accuracy: 87.4%, Avg loss: 0.364070 \n",
            "\n",
            "Epoch 7\n",
            "\n",
            "Test: \n",
            " Accuracy: 87.4%, Avg loss: 0.355281 \n",
            "\n",
            "Epoch 8\n",
            "\n",
            "Test: \n",
            " Accuracy: 87.9%, Avg loss: 0.346048 \n",
            "\n",
            "Epoch 9\n",
            "\n",
            "Test: \n",
            " Accuracy: 88.0%, Avg loss: 0.355901 \n",
            "\n",
            "Epoch 10\n",
            "\n",
            "Test: \n",
            " Accuracy: 87.9%, Avg loss: 0.373891 \n",
            "\n",
            "Done!\n"
          ]
        }
      ]
    },
    {
      "cell_type": "markdown",
      "source": [
        "##CIFAR-10 Dataset\n",
        "\n",
        "The CIFAR-10 dataset consists of 60000 32x32 colour images in 10 classes, with 6000 images per class. There are 50000 training images and 10000 test images.\n",
        "\n",
        "The dataset is divided into five training batches and one test batch, each with 10000 images. The test batch contains exactly 1000 randomly-selected images from each class. The training batches contain the remaining images in random order, but some training batches may contain more images from one class than another. Between them, the training batches contain exactly 5000 images from each class."
      ],
      "metadata": {
        "id": "mIywydjpEPEf"
      }
    },
    {
      "cell_type": "code",
      "source": [
        "import torchvision\n",
        "\n",
        "transform = torchvision.transforms.Compose([\n",
        "    torchvision.transforms.RandomHorizontalFlip(),\n",
        "    torchvision.transforms.RandomPerspective(),\n",
        "    torchvision.transforms.ToTensor()\n",
        "])\n",
        "train_dataset = torchvision.datasets.CIFAR10(root=\"data\", train=True, transform=transform, download=True)\n",
        "test_dataset = torchvision.datasets.CIFAR10(root=\"data\", train=False, transform=transform, download=True)"
      ],
      "metadata": {
        "colab": {
          "base_uri": "https://localhost:8080/"
        },
        "id": "RKSsf0ybCG3Y",
        "outputId": "4dfc6492-b403-4880-b938-7099d369e06f"
      },
      "execution_count": 22,
      "outputs": [
        {
          "output_type": "stream",
          "name": "stdout",
          "text": [
            "Files already downloaded and verified\n",
            "Files already downloaded and verified\n"
          ]
        }
      ]
    },
    {
      "cell_type": "code",
      "source": [
        "from torch.utils.data import DataLoader\n",
        "\n",
        "train_dataloader = DataLoader(train_dataset, batch_size=32, shuffle=True)\n",
        "test_dataloader = DataLoader(test_dataset, batch_size=32, shuffle=True)"
      ],
      "metadata": {
        "id": "6xqrY8x5EygJ"
      },
      "execution_count": 23,
      "outputs": []
    },
    {
      "cell_type": "code",
      "source": [
        "X_ex, y_ex = next(iter(train_dataloader))\n",
        "y_ex"
      ],
      "metadata": {
        "colab": {
          "base_uri": "https://localhost:8080/"
        },
        "id": "ZufQfqBZHja-",
        "outputId": "3d2a8c39-652e-437d-9a54-318fe5bf62bc"
      },
      "execution_count": 24,
      "outputs": [
        {
          "output_type": "execute_result",
          "data": {
            "text/plain": [
              "tensor([3, 9, 8, 8, 5, 7, 5, 0, 1, 1, 8, 6, 7, 4, 6, 6, 4, 3, 2, 8, 6, 0, 2, 6,\n",
              "        2, 8, 2, 8, 5, 5, 0, 6])"
            ]
          },
          "metadata": {},
          "execution_count": 24
        }
      ]
    },
    {
      "cell_type": "code",
      "source": [
        "plt.matshow(X_ex[1].permute(1,2,0))\n",
        "plt.show()"
      ],
      "metadata": {
        "colab": {
          "base_uri": "https://localhost:8080/",
          "height": 437
        },
        "id": "0f_YFmEYE8oA",
        "outputId": "b049b802-48e7-4820-fa22-8fb439ff6e0e"
      },
      "execution_count": 25,
      "outputs": [
        {
          "output_type": "display_data",
          "data": {
            "text/plain": [
              "<Figure size 480x480 with 1 Axes>"
            ],
            "image/png": "[encoded data removed]"
          },
          "metadata": {}
        }
      ]
    },
    {
      "cell_type": "code",
      "source": [
        "import torch.nn.functional as F\n",
        "class LeNet(nn.Module):\n",
        "    def __init__(self,num_classes=0):\n",
        "        super(LeNet,self).__init__()\n",
        "        self.conv1 = nn.Conv2d(3,6,5)\n",
        "        self.conv2 = nn.Conv2d(6,16,5)\n",
        "        self.fc_1 = nn.Linear(16*5*5,120)\n",
        "        self.fc_2 = nn.Linear(120,84)\n",
        "        self.fc_3 = nn.Linear(84,num_classes)\n",
        "\n",
        "    def forward(self,x):\n",
        "        out = F.relu(self.conv1(x))\n",
        "        out = F.max_pool2d(out,2)\n",
        "        out = F.relu(self.conv2(out))\n",
        "        out = F.max_pool2d(out,2)\n",
        "        out = out.view(out.size(0),-1)\n",
        "        out = F.relu(self.fc_1(out))\n",
        "        out = F.relu(self.fc_2(out))\n",
        "        out = self.fc_3(out)\n",
        "        return out\n",
        "\n",
        "def lenet(num_classes):\n",
        "    return LeNet(num_classes=num_classes)"
      ],
      "metadata": {
        "id": "gCJGVx1aFBk-"
      },
      "execution_count": 26,
      "outputs": []
    },
    {
      "cell_type": "code",
      "source": [
        "def train_loop(dataloader, model, loss_fn, optimizer):\n",
        "    size = len(dataloader.dataset)\n",
        "    for batch, (X, y) in enumerate(dataloader):\n",
        "        X = X\n",
        "        y = y\n",
        "        # Compute prediction and loss\n",
        "        pred = model(X)\n",
        "        loss = loss_fn(pred, y)\n",
        "\n",
        "        # Backpropagation\n",
        "        optimizer.zero_grad()\n",
        "        loss.backward()\n",
        "        optimizer.step()\n",
        "\n",
        "        # if batch % 100 == 0:\n",
        "        #     loss, current = loss.item(), batch * len(X)\n",
        "        #     print(f\"loss: {loss:>7f}  [{current:>5d}/{size:>5d}]\")\n",
        "\n",
        "\n",
        "def test_loop(dataloader, model, loss_fn):\n",
        "    size = len(dataloader.dataset)\n",
        "    num_batches = len(dataloader)\n",
        "    test_loss, correct = 0, 0\n",
        "\n",
        "    with torch.no_grad():\n",
        "        for X, y in dataloader:\n",
        "            X = X\n",
        "            y = y\n",
        "            pred = model(X)\n",
        "            test_loss += loss_fn(pred, y).item()\n",
        "            correct += (pred.argmax(1) == y).type(torch.float).sum().item()\n",
        "\n",
        "    test_loss /= num_batches\n",
        "    correct /= size\n",
        "    print(f\"Test Error: \\n Accuracy: {(100*correct):>0.1f}%, Avg loss: {test_loss:>8f} \\n\")"
      ],
      "metadata": {
        "id": "KYL5gMMFFOjs"
      },
      "execution_count": 27,
      "outputs": []
    },
    {
      "cell_type": "code",
      "source": [
        "model = lenet(10)\n",
        "model = model\n",
        "loss_fn = nn.CrossEntropyLoss()\n",
        "optimizer = torch.optim.Adam(model.parameters(), lr=1e-3, betas=(0.9, 0.999))\n",
        "\n",
        "epochs = 10 #Maybe larger\n",
        "for t in range(epochs):\n",
        "    train_loop(train_dataloader, model, loss_fn, optimizer)\n",
        "    if epochs % 10 == 0:\n",
        "      print(f\"Epoch {t+1}\\n\")\n",
        "      test_loop(test_dataloader, model, loss_fn)\n",
        "print(\"Done!\")"
      ],
      "metadata": {
        "colab": {
          "base_uri": "https://localhost:8080/"
        },
        "id": "7XqTomm0G6--",
        "outputId": "4223eb9b-4461-41b2-b2b7-68b539d9ea06"
      },
      "execution_count": 28,
      "outputs": [
        {
          "output_type": "stream",
          "name": "stdout",
          "text": [
            "Epoch 1\n",
            "\n",
            "Test Error: \n",
            " Accuracy: 41.5%, Avg loss: 1.615127 \n",
            "\n",
            "Epoch 2\n",
            "\n",
            "Test Error: \n",
            " Accuracy: 44.9%, Avg loss: 1.516402 \n",
            "\n",
            "Epoch 3\n",
            "\n",
            "Test Error: \n",
            " Accuracy: 47.1%, Avg loss: 1.457359 \n",
            "\n",
            "Epoch 4\n",
            "\n",
            "Test Error: \n",
            " Accuracy: 49.6%, Avg loss: 1.398467 \n",
            "\n",
            "Epoch 5\n",
            "\n",
            "Test Error: \n",
            " Accuracy: 50.7%, Avg loss: 1.372015 \n",
            "\n",
            "Epoch 6\n",
            "\n",
            "Test Error: \n",
            " Accuracy: 52.5%, Avg loss: 1.316328 \n",
            "\n",
            "Epoch 7\n",
            "\n",
            "Test Error: \n",
            " Accuracy: 53.7%, Avg loss: 1.302731 \n",
            "\n",
            "Epoch 8\n",
            "\n",
            "Test Error: \n",
            " Accuracy: 53.0%, Avg loss: 1.321123 \n",
            "\n",
            "Epoch 9\n",
            "\n",
            "Test Error: \n",
            " Accuracy: 55.0%, Avg loss: 1.263392 \n",
            "\n",
            "Epoch 10\n",
            "\n",
            "Test Error: \n",
            " Accuracy: 54.1%, Avg loss: 1.301965 \n",
            "\n",
            "Done!\n"
          ]
        }
      ]
    }
  ]
}